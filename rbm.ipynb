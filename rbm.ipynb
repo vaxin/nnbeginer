{
 "cells": [
  {
   "cell_type": "markdown",
   "metadata": {},
   "source": [
    "# 受限玻尔兹曼机 （Restricted Bolzman Machine）\n",
    "\n",
    "结构比较简单，就是一个隐藏层，没有输出层，本节中，我们将见识到pytorch的强大灵活性，那就是预训练机制。\n",
    "RBM后面有强大的理论基础，这里我也讲不明白，我只是来实现结论的。如果有兴趣，请参考后面的文献。"
   ]
  },
  {
   "cell_type": "code",
   "execution_count": null,
   "metadata": {
    "collapsed": true
   },
   "outputs": [],
   "source": []
  },
  {
   "cell_type": "markdown",
   "metadata": {},
   "source": [
    "### 参考文献\n",
    "- http://blog.csdn.net/mytestmy/article/details/9150213"
   ]
  },
  {
   "cell_type": "code",
   "execution_count": null,
   "metadata": {
    "collapsed": true
   },
   "outputs": [],
   "source": []
  }
 ],
 "metadata": {
  "kernelspec": {
   "display_name": "Python 3",
   "language": "python",
   "name": "python3"
  },
  "language_info": {
   "codemirror_mode": {
    "name": "ipython",
    "version": 3
   },
   "file_extension": ".py",
   "mimetype": "text/x-python",
   "name": "python",
   "nbconvert_exporter": "python",
   "pygments_lexer": "ipython3",
   "version": "3.6.0"
  }
 },
 "nbformat": 4,
 "nbformat_minor": 2
}
