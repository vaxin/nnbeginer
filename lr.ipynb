{
 "cells": [
  {
   "cell_type": "markdown",
   "metadata": {},
   "source": [
    "## 逻辑回归\n",
    "\n",
    "softmax with logits with cross entropy，二分类就是logistic regression，多分类就是softmax regression。\n",
    "\n",
    "释义\n",
    "* logits - 是softmax的输入，即不做sigmoid只做sum的输出值\n",
    "* softmax - 是简单的计算方式\n",
    "* cross entropy - 是训练所使用的cost函数\n",
    "\n",
    "二分类问题的cost函数是最小二乘的极大似然估计，推广到多分类上就是cross entropy交叉熵，熵、互信息这些概念在后面的无监督学习也常用到。比如VAE中提到的kl divergence，KL散度\n",
    "\n",
    "二分类的极大似然估计 $L(\\theta) = y*log(h_{\\theta}(X)) + (1-y) * log(1 - log(h_{\\theta}(X)) $\n",
    "\n",
    "多分类的交叉熵 $-\\sum p(x)logp(x)$ => $ -\\sum y_i * log(h_{\\theta}(X)) $ 可见$-L(\\theta)$就是二分类的交叉熵了。"
   ]
  },
  {
   "cell_type": "code",
   "execution_count": 1,
   "metadata": {
    "collapsed": true
   },
   "outputs": [],
   "source": [
    "# "
   ]
  },
  {
   "cell_type": "code",
   "execution_count": null,
   "metadata": {
    "collapsed": true
   },
   "outputs": [],
   "source": []
  }
 ],
 "metadata": {
  "kernelspec": {
   "display_name": "Python 2",
   "language": "python",
   "name": "python2"
  },
  "language_info": {
   "codemirror_mode": {
    "name": "ipython",
    "version": 2
   },
   "file_extension": ".py",
   "mimetype": "text/x-python",
   "name": "python",
   "nbconvert_exporter": "python",
   "pygments_lexer": "ipython2",
   "version": "2.7.13"
  }
 },
 "nbformat": 4,
 "nbformat_minor": 2
}
