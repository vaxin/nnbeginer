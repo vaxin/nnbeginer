{
 "cells": [
  {
   "cell_type": "markdown",
   "metadata": {
    "deletable": true,
    "editable": true
   },
   "source": [
    "# LeNet\n",
    "\n",
    "接下来的几天我们将主要精力用来重温以下经典。\n",
    "![](./img/history.png)\n",
    "\n",
    "卷积神经网络的鼻祖，Yan Lecun在1998年提出来的，卷积神经网络，其中最经典的当属LeNet5，这个网络其实一点也不简单，我们来实现一下，通过这个我们会对卷积结构有更深刻的理解\n",
    "\n",
    "![](./img/lenet.jpg)"
   ]
  },
  {
   "cell_type": "code",
   "execution_count": 34,
   "metadata": {
    "collapsed": false,
    "deletable": true,
    "editable": true
   },
   "outputs": [],
   "source": [
    "import torch\n",
    "from torch.autograd import Variable\n",
    "import torch.nn as nn\n",
    "from torchvision import transforms, datasets\n",
    "\n",
    "# load mnist\n",
    "def minst_loader():\n",
    "    # load mnist\n",
    "    transform = transforms.Compose([\n",
    "        transforms.Scale((32, 32)),\n",
    "        transforms.ToTensor(),\n",
    "        transforms.Normalize((0.1307,), (0.3081,)),\n",
    "    ])  \n",
    "\n",
    "    train_set = datasets.MNIST('./data', train = True, download = True, transform = transform)\n",
    "    test_set = datasets.MNIST('./data', train = False, download = True, transform = transform)\n",
    "\n",
    "    train_loader = torch.utils.data.DataLoader(train_set, batch_size = 32, shuffle = True)\n",
    "    test_loader = torch.utils.data.DataLoader(train_set, shuffle = False)\n",
    "    return (train_loader, test_loader)\n"
   ]
  },
  {
   "cell_type": "code",
   "execution_count": 75,
   "metadata": {
    "collapsed": false,
    "deletable": true,
    "editable": true
   },
   "outputs": [],
   "source": [
    "import torch.optim as optim\n",
    "import numpy as np\n",
    "def train(data_loader, n_epoch, net, criterion, lr = 0.01):\n",
    "    optimizer = optim.SGD(net.parameters(), lr = 0.01, momentum = 0.5)\n",
    "\n",
    "    for epoch in range(n_epoch):\n",
    "        loss_arr = []\n",
    "        accuracy_arr = []\n",
    "        print(\"------ epoch: %d Start--------\" % (epoch))   \n",
    "        for i, data in enumerate(data_loader, 0): # 0的意思是无论重跑几次，都从0开始迭代，避免多次试验时不稳定的问题\n",
    "            inputs, labels = data\n",
    "            inputs, labels = Variable(inputs), Variable(labels)\n",
    "            \n",
    "            optimizer.zero_grad() # 等同于net.zero_grad()\n",
    "            outputs = net(inputs)\n",
    "            \n",
    "            loss = criterion(outputs, labels)\n",
    "            loss.backward()\n",
    "            optimizer.step()\n",
    "        \n",
    "            _, predicted = torch.max(outputs, 1) # 注意一定是dim = 1，0是batch\n",
    "            acc = (predicted == labels).long().sum()\n",
    "            total = labels.size(0)\n",
    "\n",
    "            loss = loss.data[0]\n",
    "            acc = acc.data[0] * 100 / total\n",
    "            \n",
    "            loss_arr.append(loss)\n",
    "            accuracy_arr.append(acc)\n",
    "            if i % 100 == 0:\n",
    "                print('iter: %d, Loss: %.2f, Accuracy: %.2f %%' % (i, loss, acc))\n",
    "          \n",
    "        print(\"------ epoch: %d, Loss: %.2f, Accuracy: %.2f %%--------\" % (epoch, np.sum(loss_arr) / len(loss_arr), np.sum(accuracy_arr) / len(accuracy_arr)))   "
   ]
  },
  {
   "cell_type": "markdown",
   "metadata": {},
   "source": [
    "### 网络模型\n",
    "\n",
    "- 将输入图像28x28x1转成32x32x1.\n",
    "\n",
    "- 卷积层一：C1: 输出为 28x28x6. [ kernal_size = 5, feature_size = 6, stride = 1 ]\n",
    "- 激活一：activation1: 自由选择.\n",
    "- 池化层一S2：输出为 14 x 14 x 6.  [ 2 x 2 ] 尊重原著称为下采样层 downsampling\n",
    "\n",
    "\n",
    "- 卷积层二：C3: 输出 10x10x16. [ kernal_size = 5, feature_size = 16, stride = 1 ]\n",
    "- 激活二：activations2: 自由选择\n",
    "- 池化层二S4：输出为5 x 5 x 16 尊重原著称为下采样层 downsampling S2\n",
    "\n",
    "6是如何变成16的呢？这块会让初学者困惑，参见下图：\n",
    "![](./img/lenets2c3.png)\n",
    "6个feature map与S2层相连的3个feature map相连接。\n",
    "6个feature map与S2层相连的4个feature map相连接。\n",
    "3个feature map与S2层部分不相连的4个feature map相连接。\n",
    "1个与S2层的所有feature map相连。\n",
    "\n",
    "这里面的核心问题是，一个feature map如何与多个feature map相连呢？\n",
    "![](./img/convconv.png)\n",
    "feature之间类似于全连接关系，每个后置feature的一个点，对应之前多个feature的卷积后再加权复合。\n",
    "\n",
    "对于LeNet5，S2与C3的连接参数计算方法是：每个卷积核大小是5x5，25个点位，三个feature并入一个，则3->6的参数量为：6 x (5 x 5 x 3 + 1)\n",
    "同理，4->6：6 x (5 x 5 x 4 + 1)，4->3：3 x (5 x 5 x 4 + 1)，6->1：1 x (5 x 5 x 6 + 1)，共计1516个参数，输出16个大小为10 * 10的feature\n",
    "\n",
    "- 维度变换：三维变一维， 输出为：\n",
    "- 卷积层三C5： 输出为120  \n",
    "\n",
    "#### 为什么叫C5呢？从图上看明明是全连接\n",
    "\n",
    "由于S4的作用，输出为5x5x16所以，本层再使用5x5的卷积核时，发生了一个神奇的现象，只能卷积一下，形成一个1x1的图，使用了120个卷积核，因而有16->120的卷积映射关系，共有参数120 x (5x5x16 + 1) = 48120个参数。输出也就是120 x 1的类似全连接层的效果了，平展开就像一个全连接层。\n",
    "\n",
    "- 全连接层一的激活：activation3\n",
    "\n",
    "- 全连接层二F6： 输出为84\n",
    "- 全连接层二的激活: activation4\n",
    "\n",
    "- 全连接层三： 输出为10 (RBF，欧式径向基函数)\n",
    "\n",
    "\n",
    "参考资料：\n",
    "- http://blog.csdn.net/zhangjunhit/article/details/53536915\n",
    "- https://github.com/feiyuhug/lenet-5/blob/master/covnet.py\n",
    "\n",
    "# 特别说明\n",
    "鉴于98年的时候计算力比较落后，S2到C3的复杂设计，我们认为是落后的，另外由于比较难用pytorch实现，我们发现大部分的lenet5实现，都将S2-C3的连接关系变成了全连接。\n",
    "本次实现采用偷懒做法。将来有时间尝试复杂的做法，也相当于探索pytorch的灵活性问题。\n",
    "TODO：忠实原著的实现方式"
   ]
  },
  {
   "cell_type": "code",
   "execution_count": 86,
   "metadata": {
    "collapsed": true,
    "deletable": true,
    "editable": true
   },
   "outputs": [],
   "source": [
    "import torch.nn.functional as F\n",
    "class LeNet5(nn.Module):\n",
    "    def __init__(self):\n",
    "        super(LeNet5, self).__init__()\n",
    "        self.c1 = nn.Conv2d(1, 6, 5)\n",
    "        self.s2 = nn.MaxPool2d(2)\n",
    "        self.c3 = nn.Conv2d(6, 16, 5)\n",
    "        self.s4 = nn.MaxPool2d(2)\n",
    "        self.c5 = nn.Conv2d(16, 120, 5)\n",
    "        self.f6 = nn.Linear(120, 84)\n",
    "        self.output = nn.Linear(84, 10)\n",
    "    \n",
    "    def forward(self, x):\n",
    "        x = self.s2(F.sigmoid(self.c1(x)))\n",
    "        x = self.s4(F.sigmoid(self.c3(x)))\n",
    "        x = F.sigmoid(self.c5(x))\n",
    "        x = x.view(x.size(0), -1)\n",
    "        x = F.sigmoid(self.f6(x))\n",
    "        x = self.output(x)\n",
    "        return x\n",
    "    "
   ]
  },
  {
   "cell_type": "code",
   "execution_count": 87,
   "metadata": {
    "collapsed": false
   },
   "outputs": [
    {
     "name": "stdout",
     "output_type": "stream",
     "text": [
      "------ epoch: 0 Start--------\n",
      "iter: 0, Loss: 2.23, Accuracy: 28.12 %\n",
      "iter: 100, Loss: 2.30, Accuracy: 9.38 %\n",
      "iter: 200, Loss: 2.28, Accuracy: 12.50 %\n",
      "iter: 300, Loss: 2.31, Accuracy: 15.62 %\n",
      "iter: 400, Loss: 2.31, Accuracy: 6.25 %\n",
      "iter: 500, Loss: 2.32, Accuracy: 3.12 %\n",
      "iter: 600, Loss: 2.32, Accuracy: 9.38 %\n",
      "iter: 700, Loss: 2.34, Accuracy: 9.38 %\n",
      "iter: 800, Loss: 2.31, Accuracy: 12.50 %\n",
      "iter: 900, Loss: 2.31, Accuracy: 9.38 %\n",
      "iter: 1000, Loss: 2.26, Accuracy: 18.75 %\n",
      "iter: 1100, Loss: 2.29, Accuracy: 3.12 %\n",
      "iter: 1200, Loss: 2.32, Accuracy: 6.25 %\n",
      "iter: 1300, Loss: 2.31, Accuracy: 6.25 %\n",
      "iter: 1400, Loss: 2.29, Accuracy: 12.50 %\n",
      "iter: 1500, Loss: 2.28, Accuracy: 12.50 %\n",
      "iter: 1600, Loss: 2.32, Accuracy: 6.25 %\n",
      "iter: 1700, Loss: 2.32, Accuracy: 3.12 %\n",
      "iter: 1800, Loss: 2.33, Accuracy: 6.25 %\n",
      "------ epoch: 0, Loss: 2.30, Accuracy: 10.63 %--------\n"
     ]
    }
   ],
   "source": [
    "net = LeNet5()\n",
    "train_loader, test_loader = minst_loader()\n",
    "criterion = nn.CrossEntropyLoss()\n",
    "\n",
    "train(train_loader, 1, net, criterion, lr = 0.0001)"
   ]
  },
  {
   "cell_type": "markdown",
   "metadata": {},
   "source": [
    "你会发现sigmoid根本收敛不下来，非常难以训练，我们换成relu试试"
   ]
  },
  {
   "cell_type": "code",
   "execution_count": 88,
   "metadata": {
    "collapsed": false
   },
   "outputs": [
    {
     "name": "stdout",
     "output_type": "stream",
     "text": [
      "------ epoch: 0 Start--------\n",
      "iter: 0, Loss: 2.32, Accuracy: 0.00 %\n",
      "iter: 100, Loss: 2.19, Accuracy: 34.38 %\n",
      "iter: 200, Loss: 0.62, Accuracy: 75.00 %\n",
      "iter: 300, Loss: 0.26, Accuracy: 90.62 %\n",
      "iter: 400, Loss: 0.48, Accuracy: 87.50 %\n",
      "iter: 500, Loss: 0.25, Accuracy: 90.62 %\n",
      "iter: 600, Loss: 0.64, Accuracy: 81.25 %\n",
      "iter: 700, Loss: 0.17, Accuracy: 96.88 %\n",
      "iter: 800, Loss: 0.09, Accuracy: 100.00 %\n",
      "iter: 900, Loss: 0.05, Accuracy: 100.00 %\n",
      "iter: 1000, Loss: 0.29, Accuracy: 90.62 %\n",
      "iter: 1100, Loss: 0.10, Accuracy: 96.88 %\n",
      "iter: 1200, Loss: 0.52, Accuracy: 90.62 %\n",
      "iter: 1300, Loss: 0.16, Accuracy: 93.75 %\n",
      "iter: 1400, Loss: 0.01, Accuracy: 100.00 %\n",
      "iter: 1500, Loss: 0.05, Accuracy: 100.00 %\n",
      "iter: 1600, Loss: 0.20, Accuracy: 90.62 %\n",
      "iter: 1700, Loss: 0.13, Accuracy: 90.62 %\n",
      "iter: 1800, Loss: 0.22, Accuracy: 93.75 %\n",
      "------ epoch: 0, Loss: 0.38, Accuracy: 88.27 %--------\n"
     ]
    }
   ],
   "source": [
    "class LeNet5(nn.Module):\n",
    "    def __init__(self):\n",
    "        super(LeNet5, self).__init__()\n",
    "        self.c1 = nn.Conv2d(1, 6, 5)\n",
    "        self.s2 = nn.MaxPool2d(2)\n",
    "        self.c3 = nn.Conv2d(6, 16, 5)\n",
    "        self.s4 = nn.MaxPool2d(2)\n",
    "        self.c5 = nn.Conv2d(16, 120, 5)\n",
    "        self.f6 = nn.Linear(120, 84)\n",
    "        self.output = nn.Linear(84, 10)\n",
    "    \n",
    "    def forward(self, x):\n",
    "        x = self.s2(F.relu(self.c1(x)))\n",
    "        x = self.s4(F.relu(self.c3(x)))\n",
    "        x = F.relu(self.c5(x))\n",
    "        x = x.view(x.size(0), -1)\n",
    "        x = F.relu(self.f6(x))\n",
    "        x = self.output(x)\n",
    "        return x\n",
    "net = LeNet5()\n",
    "train_loader, test_loader = minst_loader()\n",
    "criterion = nn.CrossEntropyLoss()\n",
    "\n",
    "train(train_loader, 1, net, criterion, lr = 0.01)"
   ]
  },
  {
   "cell_type": "markdown",
   "metadata": {},
   "source": [
    "可以说瞬间就上去了， relu真的是个很牛逼的东西"
   ]
  },
  {
   "cell_type": "code",
   "execution_count": null,
   "metadata": {
    "collapsed": true
   },
   "outputs": [],
   "source": []
  }
 ],
 "metadata": {
  "kernelspec": {
   "display_name": "Python 3",
   "language": "python",
   "name": "python3"
  },
  "language_info": {
   "codemirror_mode": {
    "name": "ipython",
    "version": 3
   },
   "file_extension": ".py",
   "mimetype": "text/x-python",
   "name": "python",
   "nbconvert_exporter": "python",
   "pygments_lexer": "ipython3",
   "version": "3.6.0"
  }
 },
 "nbformat": 4,
 "nbformat_minor": 2
}
