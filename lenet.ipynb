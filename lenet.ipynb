{
 "cells": [
  {
   "cell_type": "markdown",
   "metadata": {
    "deletable": true,
    "editable": true
   },
   "source": [
    "# LeNet\n",
    "\n",
    "接下来的几天我们将主要精力用来重温以下经典。\n",
    "![](./img/history.png)\n",
    "\n",
    "卷积神经网络的鼻祖，Yan Lecun在1998年提出来的，卷积神经网络，其中最经典的当属LeNet5，这个网络其实一点也不简单，我们来实现一下，通过这个我们会对卷积结构有更深刻的理解\n",
    "\n",
    "![](./img/lenet.jpg)"
   ]
  },
  {
   "cell_type": "code",
   "execution_count": 1,
   "metadata": {
    "collapsed": false,
    "deletable": true,
    "editable": true
   },
   "outputs": [],
   "source": [
    "import torch\n",
    "from torch.autograd import Variable\n",
    "import torch.nn as nn\n",
    "from torchvision import transforms, datasets\n",
    "\n",
    "# load mnist\n",
    "def minst_loader():\n",
    "    # load mnist\n",
    "    transform = transforms.Compose([\n",
    "        transforms.ToTensor(),\n",
    "        transforms.Normalize((0.1307,), (0.3081,))\n",
    "    ])  \n",
    "\n",
    "    train_set = datasets.MNIST('./data', train = True, download = True, transform = transform)\n",
    "    test_set = datasets.MNIST('./data', train = False, download = True, transform = transform)\n",
    "\n",
    "    train_loader = torch.utils.data.DataLoader(train_set, batch_size = 32, shuffle = True)\n",
    "    test_loader = torch.utils.data.DataLoader(train_set, shuffle = False)\n",
    "    return (train_loader, test_loader)\n"
   ]
  },
  {
   "cell_type": "code",
   "execution_count": 2,
   "metadata": {
    "collapsed": false,
    "deletable": true,
    "editable": true
   },
   "outputs": [],
   "source": [
    "def train(data_loader, n_epoch, net, criterion):\n",
    "    optimizer = optim.SGD(net.parameters(), lr = 0.01, momentum = 0.5)\n",
    "\n",
    "    for epoch in range(n_epoch):\n",
    "        loss_arr = []\n",
    "        accuracy_arr = []\n",
    "        for i, data in enumerate(data_loader, 0): # 0的意思是无论重跑几次，都从0开始迭代，避免多次试验时不稳定的问题\n",
    "            inputs, labels = data\n",
    "            inputs, labels = Variable(inputs), Variable(labels)\n",
    "            \n",
    "            optimizer.zero_grad() # 等同于net.zero_grad()\n",
    "            outputs = net(inputs)\n",
    "            loss = criterion(outputs, labels)\n",
    "            loss.backward()\n",
    "            optimizer.step()\n",
    "        \n",
    "            _, predicted = torch.max(outputs, 1) # 注意一定是dim = 1，0是batch\n",
    "            acc = (predicted == labels).long().sum()\n",
    "            total = labels.size(0)\n",
    "\n",
    "            loss_arr.append(loss.data[0])\n",
    "            accuracy_arr.append(acc.data[0] * 100 / total)\n",
    "          \n",
    "        print(\"epoch: %d, Loss: %.2f, Accuracy: %.2f %%\" % (epoch, np.sum(loss_arr) / len(loss_arr), np.sum(accuracy_arr) / len(accuracy_arr)))   "
   ]
  },
  {
   "cell_type": "markdown",
   "metadata": {},
   "source": [
    "### 网络模型\n",
    "\n",
    "- 将输入图像28x28x1转成32x32x1.\n",
    "\n",
    "- 卷积层一：C1: 输出为 28x28x6. [ kernal_size = 5, feature_size = 6, stride = 1 ]\n",
    "- 激活一：activation1: 自由选择.\n",
    "- 池化层一S2：输出为 14 x 14 x 6.  [ 2 x 2 ] 尊重原著称为下采样层 downsampling\n",
    "\n",
    "\n",
    "- 卷积层二：C3: 输出 10x10x16. [ kernal_size = 5, feature_size = 16, stride = 1 ]\n",
    "- 激活二：activations2: 自由选择\n",
    "- 池化层二S4：输出为5 x 5 x 16 尊重原著称为下采样层 downsampling S2\n",
    "\n",
    "6是如何变成16的呢？这块会让初学者困惑，参见下图：\n",
    "![](./img/lenets2c3.png)\n",
    "6个feature map与S2层相连的3个feature map相连接。\n",
    "6个feature map与S2层相连的4个feature map相连接。\n",
    "3个feature map与S2层部分不相连的4个feature map相连接。\n",
    "1个与S2层的所有feature map相连。\n",
    "\n",
    "这里面的核心问题是，一个feature map如何与多个feature map相连呢？\n",
    "![](./img/convconv.png)\n",
    "feature之间类似于全连接关系，每个后置feature的一个点，对应之前多个feature的卷积后再加权复合。\n",
    "\n",
    "对于LeNet5，S2与C3的连接参数计算方法是：每个卷积核大小是5x5，25个点位，三个feature并入一个，则3->6的参数量为：6 x (5 x 5 x 3 + 1)\n",
    "同理，4->6：6 x (5 x 5 x 4 + 1)，4->3：3 x (5 x 5 x 4 + 1)，6->1：1 x (5 x 5 x 6 + 1)，共计1516个参数，输出16个大小为10 * 10的feature\n",
    "\n",
    "- 维度变换：三维变一维， 输出为：\n",
    "- 卷积层三C5： 输出为120  \n",
    "\n",
    "#### 为什么叫C5呢？从图上看明明是全连接\n",
    "\n",
    "由于S4的作用，输出为5x5x16所以，本层再使用5x5的卷积核时，发生了一个神奇的现象，只能卷积一下，形成一个1x1的图，使用了120个卷积核，因而有16->120的卷积映射关系，共有参数120 x (5x5x16 + 1) = 48120个参数。输出也就是120 x 1的类似全连接层的效果了，平展开就像一个全连接层。\n",
    "\n",
    "- 全连接层一的激活：activation3\n",
    "\n",
    "- 全连接层二F6： 输出为84\n",
    "- 全连接层二的激活: activation4\n",
    "\n",
    "- 全连接层三： 输出为10 (RBF，欧式径向基函数)\n",
    "\n",
    "\n",
    "参考资料：\n",
    "http://blog.csdn.net/zhangjunhit/article/details/53536915"
   ]
  },
  {
   "cell_type": "code",
   "execution_count": null,
   "metadata": {
    "collapsed": true,
    "deletable": true,
    "editable": true
   },
   "outputs": [],
   "source": [
    "# 尝试使用Sequential\n",
    "# \n",
    "class LeNet(nn.Module):\n",
    "    def __init__(self):\n",
    "        super(LeNet, self).__init__()\n",
    "        self.model = nn.Sequential(\n",
    "            nn.Conv2d(1, 6, 2), # c1\n",
    "            nn.MaxPool2d()\n",
    "        )"
   ]
  }
 ],
 "metadata": {
  "kernelspec": {
   "display_name": "Python 3",
   "language": "python",
   "name": "python3"
  },
  "language_info": {
   "codemirror_mode": {
    "name": "ipython",
    "version": 3
   },
   "file_extension": ".py",
   "mimetype": "text/x-python",
   "name": "python",
   "nbconvert_exporter": "python",
   "pygments_lexer": "ipython3",
   "version": "3.6.0"
  }
 },
 "nbformat": 4,
 "nbformat_minor": 2
}
