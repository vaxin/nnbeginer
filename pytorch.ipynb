{
 "cells": [
  {
   "cell_type": "markdown",
   "metadata": {
    "deletable": true,
    "editable": true
   },
   "source": [
    "当学习新的pytorch使用方法时，在这里添加"
   ]
  },
  {
   "cell_type": "markdown",
   "metadata": {
    "collapsed": true,
    "deletable": true,
    "editable": true
   },
   "source": [
    "# itertools\n",
    "一个高效的迭代器，还记得yield的迭代生成功能吧？itertools提供了更加丰富灵活的序列产生方式"
   ]
  },
  {
   "cell_type": "code",
   "execution_count": 18,
   "metadata": {
    "collapsed": false,
    "deletable": true,
    "editable": true
   },
   "outputs": [
    {
     "name": "stdout",
     "output_type": "stream",
     "text": [
      "===数字产生器===\n",
      "2\n",
      "3\n",
      "4\n",
      "5\n",
      "6\n",
      "7\n",
      "8\n",
      "9\n",
      "10\n",
      "11\n",
      "5\n",
      "7\n",
      "9\n",
      "11\n",
      "13\n",
      "15\n",
      "17\n",
      "19\n",
      "21\n",
      "23\n",
      "===字母循环产生器===\n",
      "a\n",
      "b\n",
      "c\n",
      "a\n",
      "b\n",
      "c\n",
      "a\n",
      "b\n",
      "c\n",
      "a\n",
      "===无穷循环===\n",
      "i\n",
      "i\n",
      "i\n",
      "i\n",
      "i\n",
      "i\n",
      "i\n",
      "i\n",
      "i\n",
      "i\n"
     ]
    }
   ],
   "source": [
    "from itertools import count\n",
    "print(\"===数字产生器===\")\n",
    "generator = count(2)\n",
    "for i in range(10):\n",
    "    print(next(generator))\n",
    "\n",
    "generator = count(5, 2)\n",
    "for i in range(10):\n",
    "    print(next(generator))\n",
    "    \n",
    "from itertools import cycle\n",
    "print(\"===字母循环产生器===\")\n",
    "generator = cycle(\"abc\")\n",
    "for i in range(10):\n",
    "    print(next(generator))\n",
    "\n",
    "from itertools import repeat\n",
    "print(\"===无穷循环===\")\n",
    "generator = repeat(\"i\")\n",
    "for i in range(10):\n",
    "    print(next(generator))\n"
   ]
  },
  {
   "cell_type": "markdown",
   "metadata": {
    "deletable": true,
    "editable": true
   },
   "source": [
    "当然也有有限迭代器"
   ]
  },
  {
   "cell_type": "code",
   "execution_count": 17,
   "metadata": {
    "collapsed": false,
    "deletable": true,
    "editable": true
   },
   "outputs": [
    {
     "name": "stdout",
     "output_type": "stream",
     "text": [
      "1\n",
      "3\n",
      "6\n",
      "10\n",
      "1\n",
      "2\n",
      "3\n",
      "2\n",
      "3\n",
      "4\n",
      "a\n",
      "b\n",
      "c\n",
      "A\n",
      "B\n",
      "C\n"
     ]
    }
   ],
   "source": [
    "from itertools import accumulate\n",
    "for i in accumulate([1, 2, 3, 4]):\n",
    "    print(i)\n",
    "    \n",
    "from itertools import chain\n",
    "for i in chain([1, 2, 3], [2, 3, 4]):\n",
    "    print(i)\n",
    "    \n",
    "for i in chain(\"abc\", \"ABC\"):\n",
    "    print(i)"
   ]
  },
  {
   "cell_type": "markdown",
   "metadata": {
    "deletable": true,
    "editable": true
   },
   "source": [
    "# pytorch基础\n",
    "我们将练习，可以用于GPU训练的最基础类：标量Tensor"
   ]
  },
  {
   "cell_type": "code",
   "execution_count": 25,
   "metadata": {
    "collapsed": false,
    "deletable": true,
    "editable": true
   },
   "outputs": [
    {
     "name": "stdout",
     "output_type": "stream",
     "text": [
      "\n",
      " 0.0000e+00 -8.5899e+09  0.0000e+00 -8.5899e+09  1.1210e-44\n",
      " 0.0000e+00  0.0000e+00  0.0000e+00  0.0000e+00  0.0000e+00\n",
      " 0.0000e+00  0.0000e+00  0.0000e+00  0.0000e+00  0.0000e+00\n",
      " 0.0000e+00  0.0000e+00  0.0000e+00  0.0000e+00  0.0000e+00\n",
      " 0.0000e+00 -8.5899e+09  0.0000e+00 -8.5899e+09  4.2039e-45\n",
      "[torch.FloatTensor of size 5x5]\n",
      "\n",
      "\n",
      " 0.9451  0.9439  0.8820  0.0143  0.0351\n",
      " 0.0037  0.8230  0.0785  0.9323  0.8221\n",
      " 0.1489  0.5827  0.6032  0.0532  0.3729\n",
      " 0.2564  0.6914  0.3004  0.6219  0.8102\n",
      " 0.1808  0.9670  0.3201  0.1664  0.4150\n",
      "[torch.FloatTensor of size 5x5]\n",
      "\n"
     ]
    },
    {
     "data": {
      "text/plain": [
       "torch.Size([5, 5])"
      ]
     },
     "execution_count": 25,
     "metadata": {},
     "output_type": "execute_result"
    }
   ],
   "source": [
    "import torch\n",
    "x = torch.Tensor(5, 5) # 未初始化\n",
    "print(x)\n",
    "y = torch.rand(5, 5) # 随机初始化\n",
    "print(y)\n",
    "x.size() # 获取shape"
   ]
  },
  {
   "cell_type": "markdown",
   "metadata": {
    "deletable": true,
    "editable": true
   },
   "source": [
    "OK，简单的Tensor加法操作"
   ]
  },
  {
   "cell_type": "code",
   "execution_count": 36,
   "metadata": {
    "collapsed": false,
    "deletable": true,
    "editable": true
   },
   "outputs": [
    {
     "name": "stdout",
     "output_type": "stream",
     "text": [
      "\n",
      " 9.4512e-01 -8.5899e+09  8.8197e-01 -8.5899e+09  3.5128e-02\n",
      " 3.7267e-03  8.2298e-01  7.8545e-02  9.3233e-01  8.2209e-01\n",
      " 1.4892e-01  5.8272e-01  6.0317e-01  5.3193e-02  3.7286e-01\n",
      " 2.5644e-01  6.9143e-01  3.0036e-01  6.2186e-01  8.1016e-01\n",
      " 1.8077e-01 -8.5899e+09  3.2008e-01 -8.5899e+09  4.1501e-01\n",
      "[torch.FloatTensor of size 5x5]\n",
      "\n",
      "\n",
      " 1.8345e+00 -8.5899e+09  1.2501e+00 -8.5899e+09  8.4351e-01\n",
      " 8.9268e-01  1.7973e+00  9.2037e-01  1.1638e+00  1.0744e+00\n",
      " 4.8442e-01  1.0974e+00  1.2266e+00  2.4995e-01  3.8067e-01\n",
      " 4.9555e-01  9.4416e-01  5.4582e-01  1.2454e+00  1.2449e+00\n",
      " 4.4154e-01 -8.5899e+09  1.0567e+00 -8.5899e+09  6.5854e-01\n",
      "[torch.FloatTensor of size 5x5]\n",
      "\n"
     ]
    }
   ],
   "source": [
    "print(x + y)\n",
    "z = torch.rand(5, 5)\n",
    "print(x + y + z)\n",
    "# error: print(torch.add(x, y, z))\n"
   ]
  },
  {
   "cell_type": "code",
   "execution_count": 39,
   "metadata": {
    "collapsed": false,
    "deletable": true,
    "editable": true
   },
   "outputs": [
    {
     "name": "stdout",
     "output_type": "stream",
     "text": [
      "\n",
      " 8.8940e-01 -8.5899e+09  3.6810e-01 -8.5899e+09  8.0838e-01\n",
      " 8.8895e-01  9.7430e-01  8.4183e-01  2.3148e-01  2.5230e-01\n",
      " 3.3550e-01  5.1464e-01  6.2347e-01  1.9675e-01  7.8019e-03\n",
      " 2.3910e-01  2.5273e-01  2.4546e-01  6.2359e-01  4.3478e-01\n",
      " 2.6077e-01 -8.5899e+09  7.3657e-01 -8.5899e+09  2.4353e-01\n",
      "[torch.FloatTensor of size 5x5]\n",
      "\n",
      "\n",
      " 8.8940e-01 -8.5899e+09  3.6810e-01 -8.5899e+09  8.0838e-01\n",
      " 8.8895e-01  9.7430e-01  8.4183e-01  2.3148e-01  2.5230e-01\n",
      " 3.3550e-01  5.1464e-01  6.2347e-01  1.9675e-01  7.8019e-03\n",
      " 2.3910e-01  2.5273e-01  2.4546e-01  6.2359e-01  4.3478e-01\n",
      " 2.6077e-01 -8.5899e+09  7.3657e-01 -8.5899e+09  2.4353e-01\n",
      "[torch.FloatTensor of size 5x5]\n",
      "\n",
      "\n",
      " 8.8940e-01 -8.5899e+09  3.6810e-01 -8.5899e+09  8.0838e-01\n",
      " 8.8895e-01  9.7430e-01  8.4183e-01  2.3148e-01  2.5230e-01\n",
      " 3.3550e-01  5.1464e-01  6.2347e-01  1.9675e-01  7.8019e-03\n",
      " 2.3910e-01  2.5273e-01  2.4546e-01  6.2359e-01  4.3478e-01\n",
      " 2.6077e-01 -8.5899e+09  7.3657e-01 -8.5899e+09  2.4353e-01\n",
      "[torch.FloatTensor of size 5x5]\n",
      "\n",
      "\n",
      " 8.8940e-01 -1.7180e+10  3.6810e-01 -1.7180e+10  8.0838e-01\n",
      " 8.8895e-01  9.7430e-01  8.4183e-01  2.3148e-01  2.5230e-01\n",
      " 3.3550e-01  5.1464e-01  6.2347e-01  1.9675e-01  7.8019e-03\n",
      " 2.3910e-01  2.5273e-01  2.4546e-01  6.2359e-01  4.3478e-01\n",
      " 2.6077e-01 -1.7180e+10  7.3657e-01 -1.7180e+10  2.4353e-01\n",
      "[torch.FloatTensor of size 5x5]\n",
      "\n"
     ]
    }
   ],
   "source": [
    "#原位替换\n",
    "z1 = z\n",
    "z2 = z\n",
    "z3 = z\n",
    "z1 = z1 + x # => z = z + x\n",
    "print(z1)\n",
    "z2 = z2 + x\n",
    "print(z2)\n",
    "\n",
    "z3.add_(x)\n",
    "print(z3)\n",
    "z2 = z2 + x\n",
    "print(z2)"
   ]
  },
  {
   "cell_type": "markdown",
   "metadata": {
    "deletable": true,
    "editable": true
   },
   "source": [
    "你会发现，z1和z2加完后不相等，这因为z1和z2只是引用赋值，没有进行clone，所以z3调用add_时，对z的原值进行了修改\n",
    "z1没有影响z2是因为z1 + x 创造了新的Tensor，所以没有影响z的原值"
   ]
  },
  {
   "cell_type": "markdown",
   "metadata": {
    "deletable": true,
    "editable": true
   },
   "source": [
    "当然，torch拥有和numpy一样的多维数组索引提取技术"
   ]
  },
  {
   "cell_type": "code",
   "execution_count": 43,
   "metadata": {
    "collapsed": false,
    "deletable": true,
    "editable": true
   },
   "outputs": [
    {
     "name": "stdout",
     "output_type": "stream",
     "text": [
      "\n",
      " 0  0\n",
      " 0  0\n",
      "[torch.FloatTensor of size 2x2]\n",
      "\n"
     ]
    }
   ],
   "source": [
    "print(x[2:4, 1:3])"
   ]
  },
  {
   "cell_type": "code",
   "execution_count": 44,
   "metadata": {
    "collapsed": false,
    "deletable": true,
    "editable": true
   },
   "outputs": [
    {
     "name": "stdout",
     "output_type": "stream",
     "text": [
      "\n",
      " 1\n",
      " 3\n",
      "[torch.LongTensor of size 2]\n",
      "\n"
     ]
    }
   ],
   "source": [
    "# 从numpy转换过来\n",
    "import numpy\n",
    "a = numpy.asarray([1, 3])\n",
    "print(torch.from_numpy(a))\n"
   ]
  },
  {
   "cell_type": "markdown",
   "metadata": {
    "deletable": true,
    "editable": true
   },
   "source": [
    "大量的操作方法，参考 [doc](http://pytorch.org/docs/master/torch.html)\n",
    "\n",
    "还有矩阵操作 sum, mean, std, max, min"
   ]
  },
  {
   "cell_type": "markdown",
   "metadata": {
    "deletable": true,
    "editable": true
   },
   "source": [
    "torch比较二逼的地方是为了灵活，把cuda暴露出来了"
   ]
  },
  {
   "cell_type": "code",
   "execution_count": 46,
   "metadata": {
    "collapsed": true,
    "deletable": true,
    "editable": true
   },
   "outputs": [],
   "source": [
    "if torch.cuda.is_available():\n",
    "    x = x.cuda()\n",
    "    y = y.cuda()\n",
    "    x + y"
   ]
  },
  {
   "cell_type": "markdown",
   "metadata": {
    "deletable": true,
    "editable": true
   },
   "source": [
    "# 自动梯度计算 autograd\n",
    "autograd包，Variable也在这个里面是整个包的核心\n",
    "\n",
    "Variable其实一个管理类，首先他的核心是一个标量Tensor，叫data，同时为它配备了一个反向传播时需要的梯度记录，叫grad。\n",
    "Function是autograd包中另一个非常重要的类。比如grad的计算就需要一个Function叫grad_fn，grad_fn记录了变量的创建过程，这样，未来反向传播时就会对grad_fn进行求导，所以这里要吐槽的是，grad_fn这个名字起得太恶心，叫forward_fn更好一些。"
   ]
  },
  {
   "cell_type": "code",
   "execution_count": 62,
   "metadata": {
    "collapsed": false,
    "deletable": true,
    "editable": true
   },
   "outputs": [
    {
     "name": "stdout",
     "output_type": "stream",
     "text": [
      "Variable containing:\n",
      " 1  1  1  1  1\n",
      " 1  1  1  1  1\n",
      " 1  1  1  1  1\n",
      " 1  1  1  1  1\n",
      " 1  1  1  1  1\n",
      "[torch.FloatTensor of size 5x5]\n",
      "\n",
      "Variable containing:\n",
      " 2  2  2  2  2\n",
      " 2  2  2  2  2\n",
      " 2  2  2  2  2\n",
      " 2  2  2  2  2\n",
      " 2  2  2  2  2\n",
      "[torch.FloatTensor of size 5x5]\n",
      "\n",
      "Variable containing:\n",
      " 5  5  5  5  5\n",
      " 5  5  5  5  5\n",
      " 5  5  5  5  5\n",
      " 5  5  5  5  5\n",
      " 5  5  5  5  5\n",
      "[torch.FloatTensor of size 5x5]\n",
      "\n",
      "Variable containing:\n",
      " 25  25  25  25  25\n",
      " 25  25  25  25  25\n",
      " 25  25  25  25  25\n",
      " 25  25  25  25  25\n",
      " 25  25  25  25  25\n",
      "[torch.FloatTensor of size 5x5]\n",
      "\n"
     ]
    }
   ],
   "source": [
    "from torch import autograd\n",
    "from torch.autograd import Variable\n",
    "input = Variable(torch.ones(5, 5), requires_grad = True)\n",
    "print(input)\n",
    "d = torch.ones(5, 5)\n",
    "# ERROR: print(input + d)\n",
    "print(input + Variable(d))\n",
    "y = input + 4\n",
    "print(y)\n",
    "print(y * y)"
   ]
  },
  {
   "cell_type": "markdown",
   "metadata": {
    "deletable": true,
    "editable": true
   },
   "source": [
    "操作只能在Variable之间进行"
   ]
  },
  {
   "cell_type": "code",
   "execution_count": 61,
   "metadata": {
    "collapsed": false,
    "deletable": true,
    "editable": true
   },
   "outputs": [
    {
     "name": "stdout",
     "output_type": "stream",
     "text": [
      "None\n",
      "<torch.autograd.function.AddConstantBackward object at 0x1148958b8>\n"
     ]
    }
   ],
   "source": [
    "print(input.grad_fn)\n",
    "print(y.grad_fn)"
   ]
  },
  {
   "cell_type": "markdown",
   "metadata": {
    "deletable": true,
    "editable": true
   },
   "source": [
    "y有grad_fn，input没有，grad_fn代表变量的创建过程\n",
    "好，下面我们来求一下梯度咯"
   ]
  },
  {
   "cell_type": "code",
   "execution_count": 66,
   "metadata": {
    "collapsed": false,
    "deletable": true,
    "editable": true
   },
   "outputs": [
    {
     "name": "stdout",
     "output_type": "stream",
     "text": [
      "Variable containing:\n",
      " 75  75  75  75  75\n",
      " 75  75  75  75  75\n",
      " 75  75  75  75  75\n",
      " 75  75  75  75  75\n",
      " 75  75  75  75  75\n",
      "[torch.FloatTensor of size 5x5]\n",
      " Variable containing:\n",
      " 75\n",
      "[torch.FloatTensor of size 1]\n",
      "\n",
      "None\n",
      "None\n",
      "None\n",
      "Variable containing:\n",
      " 3.6000  3.6000  3.6000  3.6000  3.6000\n",
      " 3.6000  3.6000  3.6000  3.6000  3.6000\n",
      " 3.6000  3.6000  3.6000  3.6000  3.6000\n",
      " 3.6000  3.6000  3.6000  3.6000  3.6000\n",
      " 3.6000  3.6000  3.6000  3.6000  3.6000\n",
      "[torch.FloatTensor of size 5x5]\n",
      "\n"
     ]
    }
   ],
   "source": [
    "z = y * y * 3\n",
    "out = z.mean()\n",
    "print(z, out)\n",
    "out.backward() # 反向求导\n",
    "print(out.grad) # 查看求导结果\n",
    "print(z.grad)\n",
    "print(y.grad)\n",
    "print(input.grad)"
   ]
  },
  {
   "cell_type": "markdown",
   "metadata": {
    "deletable": true,
    "editable": true
   },
   "source": [
    "由于y, z都没有requires_grad = True，所以导致没有grad"
   ]
  },
  {
   "cell_type": "code",
   "execution_count": 67,
   "metadata": {
    "collapsed": false,
    "deletable": true,
    "editable": true
   },
   "outputs": [
    {
     "name": "stdout",
     "output_type": "stream",
     "text": [
      "Help on method backward in module torch.autograd.variable:\n",
      "\n",
      "backward(gradient=None, retain_graph=None, create_graph=None, retain_variables=None) method of torch.autograd.variable.Variable instance\n",
      "    Computes the gradient of current variable w.r.t. graph leaves.\n",
      "    \n",
      "    The graph is differentiated using the chain rule. If the variable is\n",
      "    non-scalar (i.e. its data has more than one element) and requires\n",
      "    gradient, the function additionaly requires specifying ``gradient``.\n",
      "    It should be a tensor of matching type and location, that contains\n",
      "    the gradient of the differentiated function w.r.t. ``self``.\n",
      "    \n",
      "    This function accumulates gradients in the leaves - you might need to\n",
      "    zero them before calling it.\n",
      "    \n",
      "    Arguments:\n",
      "        grad_variables (Tensor, Variable or None): Gradient w.r.t. the\n",
      "            variable. If it is a tensor, it will be automatically converted\n",
      "            to a Variable that is volatile unless ``create_graph`` is True.\n",
      "            None values can be specified for scalar Variables or ones that\n",
      "            don't require grad. If a None value would be acceptable then\n",
      "            this argument is optional.\n",
      "        retain_graph (bool, optional): If False, the graph used to compute\n",
      "            the grads will be freed. Note that in nearly all cases setting\n",
      "            this option to True is not needed and often can be worked around\n",
      "            in a much more efficient way. Defaults to the value of\n",
      "            ``create_graph``.\n",
      "        create_graph (bool, optional): If true, graph of the derivative will\n",
      "            be constructed, allowing to compute higher order derivative\n",
      "            products. Defaults to False, unless ``gradient`` is a volatile\n",
      "            Variable.\n",
      "\n"
     ]
    }
   ],
   "source": [
    "help(y.backward)"
   ]
  },
  {
   "cell_type": "markdown",
   "metadata": {
    "deletable": true,
    "editable": true
   },
   "source": [
    "那么我们也可以自定一个Function，那么就要提供forward和backward两个方法啦"
   ]
  },
  {
   "cell_type": "code",
   "execution_count": 68,
   "metadata": {
    "collapsed": true,
    "deletable": true,
    "editable": true
   },
   "outputs": [],
   "source": [
    "from torch.autograd import Function\n",
    "def Exp(Function):\n",
    "    @staticmethod\n",
    "    def forward(ctx, i):\n",
    "        result = i.exp()\n",
    "        ctx.save_for_forward(result)\n",
    "    \n",
    "    @staticmethod\n",
    "    def backward(ctx, grad_output):\n",
    "        result, = ctx.saved_variables\n",
    "        return grad_output * result\n",
    "    "
   ]
  },
  {
   "cell_type": "markdown",
   "metadata": {
    "deletable": true,
    "editable": true
   },
   "source": [
    "OK, 我们大概了解了自动梯度相关的知识，下面就推进开始学习最喜欢的神经网络吧，别忘了nn的基础是autograd哦\n",
    "\n",
    "## 神经网络 torch.nn\n",
    "前馈神经网络FNN，是一个多层感知器网络MLP，对于有监督学习，我们一般讲损失函数定义在最后的输出层上，对于多分类问题，可以使用softmaxwithcrossentropy作为损失函数。\n",
    "\n",
    "整个训练的过程大致是这样的：\n",
    "- 初始化网络参数\n",
    "- 将训练数据分批次\n",
    "- 对于每个批次的输入\n",
    "    - 先进行前向传播，中间的激活层一般都要记下来，一直到输出层\n",
    "    - 计算输出层的误差，记录最后一层每个神经元的delta\n",
    "    - 将误差进行反向传播，从倒数第二层开始，计算各层的delta，进而依赖delta计算该层的grad\n",
    "- 均化该批次的grad\n",
    "- 更新整个网络的权重\n",
    "\n",
    "weight = weight - learning_rate * gradient\n",
    "\n",
    "下面先来一个复杂的"
   ]
  },
  {
   "cell_type": "code",
   "execution_count": 85,
   "metadata": {
    "collapsed": false,
    "deletable": true,
    "editable": true
   },
   "outputs": [
    {
     "name": "stdout",
     "output_type": "stream",
     "text": [
      "Net (\n",
      "  (conv1): Conv2d(1, 6, kernel_size=(5, 5), stride=(1, 1))\n",
      "  (conv2): Conv2d(6, 16, kernel_size=(5, 5), stride=(1, 1))\n",
      "  (fc1): Linear (400 -> 120)\n",
      "  (fc2): Linear (120 -> 84)\n",
      "  (fc3): Linear (84 -> 10)\n",
      ")\n"
     ]
    }
   ],
   "source": [
    "import torch.nn as nn\n",
    "import torch.nn.functional as F # 一个函数包，里面有一些工具函数\n",
    "from torch.autograd import Variable\n",
    "import torch\n",
    "\n",
    "class Net(nn.Module): # TODOModule的概念\n",
    "    def __init__(self):\n",
    "        super(Net, self).__init__()\n",
    "        \n",
    "        # 1 input image channel, 6 output channels, 5x5 square convolution\n",
    "        # 一个输入频道，6个feature， 5x5的卷积核\n",
    "        self.conv1 = nn.Conv2d(1, 6, 5) # conv1其实可以看成一个函数，后面会当函数一样调用\n",
    "        self.conv2 = nn.Conv2d(6, 16, 5)\n",
    "        \n",
    "        # 线性变换，注意这些定义的顺序没有关系，现在还没有把这些层关联到一起，只是分别定义\n",
    "        self.fc1 = nn.Linear(16 * 5 * 5, 120)\n",
    "        self.fc2 = nn.Linear(120, 84)\n",
    "        self.fc3 = nn.Linear(84, 10)\n",
    "        \n",
    "    def forward(self, x):\n",
    "        # max pool 1\n",
    "        x = F.max_pool2d(F.relu(self.conv1(x)), (2, 2)) # 2x2的pooling\n",
    "        x = F.max_pool2d(F.relu(self.conv2(x)), 2) # 没有异形尺寸，写一个2也可以\n",
    "        x = x.view(-1, self.num_flat_features(x)) # TODO 这是个什么玩意？好像是个维度转换 flatten\n",
    "        x = F.relu(self.fc1(x))\n",
    "        x = F.relu(self.fc2(x))\n",
    "        x = self.fc3(x) # 注意为了后面的softmax，这里要露出logits，不能加激活函数了\n",
    "        return x\n",
    "    \n",
    "    # 正常不用写backward，因为人家会自动算滴 \n",
    "    \n",
    "    def num_flat_features(self, x):\n",
    "        size = x.size()[1:] # 除了batch的索引之外的维度信息全部取出来, d1 * d2 * d3 * d4 ...\n",
    "        num_features = 1\n",
    "        for dim in size:\n",
    "            num_features *= dim\n",
    "        return num_features\n",
    "    \n",
    "net = Net()\n",
    "print(net)"
   ]
  },
  {
   "cell_type": "code",
   "execution_count": 81,
   "metadata": {
    "collapsed": false,
    "deletable": true,
    "editable": true
   },
   "outputs": [
    {
     "name": "stdout",
     "output_type": "stream",
     "text": [
      "10\n",
      "[Parameter containing:\n",
      "(0 ,0 ,.,.) = \n",
      " -0.1042 -0.1793 -0.1388  0.1053  0.0884\n",
      "  0.0719 -0.1042  0.0587 -0.0527  0.1563\n",
      "  0.0940 -0.0827  0.0610  0.1233 -0.0583\n",
      " -0.1769 -0.0884 -0.1536  0.0332  0.0880\n",
      " -0.0986  0.1952 -0.0860 -0.0616  0.0521\n",
      "\n",
      "(1 ,0 ,.,.) = \n",
      " -0.1395  0.0351 -0.0007  0.0033 -0.0597\n",
      "  0.1587 -0.1626 -0.0078 -0.0742  0.0679\n",
      " -0.0479  0.0209 -0.0968  0.0767 -0.1573\n",
      "  0.0466  0.1651 -0.0915  0.1011 -0.1826\n",
      " -0.1994 -0.0369 -0.0305 -0.1998 -0.0517\n",
      "\n",
      "(2 ,0 ,.,.) = \n",
      " -0.1137  0.1080  0.1185  0.0763 -0.0396\n",
      " -0.0560  0.1419  0.0876 -0.0083  0.1896\n",
      " -0.0410 -0.0134 -0.0269  0.1059 -0.1240\n",
      " -0.1557  0.1067 -0.0403  0.1092 -0.0554\n",
      " -0.1332 -0.1512 -0.1390  0.0155 -0.0458\n",
      "\n",
      "(3 ,0 ,.,.) = \n",
      " -0.1069 -0.1170  0.1542 -0.1885  0.1297\n",
      " -0.1433 -0.0722 -0.0406 -0.1468 -0.0461\n",
      "  0.1035 -0.0822 -0.0678 -0.1886 -0.0446\n",
      "  0.0443 -0.1143 -0.1898  0.0061  0.0060\n",
      "  0.1407 -0.0075  0.0408  0.1999  0.1607\n",
      "\n",
      "(4 ,0 ,.,.) = \n",
      " -0.0320  0.0532  0.1038  0.0607 -0.0032\n",
      "  0.1805  0.1050  0.1502 -0.1159 -0.0764\n",
      "  0.0252 -0.0240  0.1056 -0.1952  0.0753\n",
      "  0.0555 -0.1815 -0.0491 -0.1759  0.0467\n",
      "  0.0652  0.1289  0.1499  0.1233 -0.1392\n",
      "\n",
      "(5 ,0 ,.,.) = \n",
      "  0.1331  0.0918  0.1967 -0.1596  0.1062\n",
      "  0.0382 -0.0633 -0.1952 -0.1600  0.1890\n",
      "  0.1547 -0.0908 -0.1679  0.1155  0.0908\n",
      "  0.0728  0.1983  0.1456 -0.0981  0.0158\n",
      "  0.0156  0.1871  0.0655  0.1954 -0.1142\n",
      "[torch.FloatTensor of size 6x1x5x5]\n",
      ", Parameter containing:\n",
      "-0.1783\n",
      " 0.0401\n",
      "-0.1507\n",
      "-0.1158\n",
      "-0.1604\n",
      "-0.0260\n",
      "[torch.FloatTensor of size 6]\n",
      "]\n",
      "torch.Size([6, 1, 5, 5])\n"
     ]
    }
   ],
   "source": [
    "params = list(net.parameters()) # 一个非常复杂的结构，每一个元素是一个Tensor，代表了相应结构的内部权重信息\n",
    "print(len(params))\n",
    "print(params[:2])\n",
    "print(params[0].size())"
   ]
  },
  {
   "cell_type": "markdown",
   "metadata": {
    "deletable": true,
    "editable": true
   },
   "source": [
    "下面我们看看这个网络怎样制造输出吧"
   ]
  },
  {
   "cell_type": "code",
   "execution_count": 86,
   "metadata": {
    "collapsed": false,
    "deletable": true,
    "editable": true
   },
   "outputs": [
    {
     "name": "stdout",
     "output_type": "stream",
     "text": [
      "Variable containing:\n",
      " 0.0582 -0.1069 -0.1225 -0.1314 -0.0049 -0.1201  0.0164  0.0125 -0.0239 -0.0368\n",
      "[torch.FloatTensor of size 1x10]\n",
      "\n"
     ]
    }
   ],
   "source": [
    "input = Variable(torch.randn(1, 1, 32, 32))\n",
    "out = net(input)\n",
    "print(out)"
   ]
  },
  {
   "cell_type": "markdown",
   "metadata": {
    "deletable": true,
    "editable": true
   },
   "source": [
    "OK, 进行一次反向传播前，记得归零grad"
   ]
  },
  {
   "cell_type": "code",
   "execution_count": 88,
   "metadata": {
    "collapsed": true,
    "deletable": true,
    "editable": true
   },
   "outputs": [],
   "source": [
    "net.zero_grad()\n",
    "out.backward(torch.randn(1, 10)) # 随便制造个误差好了"
   ]
  },
  {
   "cell_type": "markdown",
   "metadata": {
    "deletable": true,
    "editable": true
   },
   "source": [
    "torch只支持minibatch模式，如果想单一sample训练，batch_size设置为1就好了，使用input.unsqueeze(0)就可以模拟成minibatch模式\n",
    "nn.Module - 神经网络模块，其实就是神经网络的基类"
   ]
  },
  {
   "cell_type": "code",
   "execution_count": 90,
   "metadata": {
    "collapsed": false,
    "deletable": true,
    "editable": true
   },
   "outputs": [],
   "source": [
    "output = net(input)\n",
    "target = Variable(torch.arange(1, 11)) # 随便制造个目标值好了\n",
    "criterion = nn.MSELoss() # 标准，生成一个MSE评价函数，均方差Mean Squared Error"
   ]
  },
  {
   "cell_type": "markdown",
   "metadata": {
    "deletable": true,
    "editable": true
   },
   "source": [
    "MSE是个什么鬼呢？通常我们使用最小二乘法（Least Squared Method）进行模型训练的目的是寻找一条直线和他的待拟合样本之间的最小欧式距离。通过梯度下降我们可以去寻找这个最小点。LSM是一个寻找模型的最佳参数以匹配样本的方法。MSE是样本均方差，计算这个值，可以评价训练出来的模型的好坏。其实LSE这个方法就是用来最小化MSE的，只不过最小二乘的cost公式在课程中讲解时一般都没有开平方。到了torch这里，就干脆统一了，所以MSE既是criteron(评价函数)也是loss（损失函数）。"
   ]
  },
  {
   "cell_type": "code",
   "execution_count": 91,
   "metadata": {
    "collapsed": false,
    "deletable": true,
    "editable": true
   },
   "outputs": [
    {
     "name": "stdout",
     "output_type": "stream",
     "text": [
      "Variable containing:\n",
      " 38.9388\n",
      "[torch.FloatTensor of size 1]\n",
      "\n"
     ]
    }
   ],
   "source": [
    "loss = criterion(output, target)\n",
    "print(loss)"
   ]
  },
  {
   "cell_type": "code",
   "execution_count": 93,
   "metadata": {
    "collapsed": false,
    "deletable": true,
    "editable": true
   },
   "outputs": [
    {
     "name": "stdout",
     "output_type": "stream",
     "text": [
      "<torch.autograd.function.MSELossBackward object at 0x114895b88>\n"
     ]
    }
   ],
   "source": [
    "loss.grad_fn"
   ]
  },
  {
   "cell_type": "markdown",
   "metadata": {
    "deletable": true,
    "editable": true
   },
   "source": [
    "好，下面开始反向传播，记得先清零grad"
   ]
  },
  {
   "cell_type": "code",
   "execution_count": 94,
   "metadata": {
    "collapsed": false,
    "deletable": true,
    "editable": true
   },
   "outputs": [
    {
     "name": "stdout",
     "output_type": "stream",
     "text": [
      "conv1.bias.grad before backward\n",
      "Variable containing:\n",
      " 0\n",
      " 0\n",
      " 0\n",
      " 0\n",
      " 0\n",
      " 0\n",
      "[torch.FloatTensor of size 6]\n",
      "\n",
      "conv1.bias.grad.after backward\n",
      "Variable containing:\n",
      " 0.0210\n",
      " 0.1442\n",
      "-0.0624\n",
      " 0.0069\n",
      "-0.0628\n",
      "-0.0490\n",
      "[torch.FloatTensor of size 6]\n",
      "\n"
     ]
    }
   ],
   "source": [
    "net.zero_grad()\n",
    "print(\"conv1.bias.grad before backward\")\n",
    "print(net.conv1.bias.grad)\n",
    "loss.backward()\n",
    "print(\"conv1.bias.grad.after backward\")\n",
    "print(net.conv1.bias.grad)"
   ]
  },
  {
   "cell_type": "markdown",
   "metadata": {
    "deletable": true,
    "editable": true
   },
   "source": [
    "看到没，grad算出来，突突就算出来了，多方便啊，但注意我们还没有update权重信息呢"
   ]
  },
  {
   "cell_type": "code",
   "execution_count": 95,
   "metadata": {
    "collapsed": true,
    "deletable": true,
    "editable": true
   },
   "outputs": [],
   "source": [
    "learning_rate = 0.01\n",
    "for f in net.parameters():\n",
    "    f.data.sub_(f.grad.data * learning_rate)"
   ]
  },
  {
   "cell_type": "markdown",
   "metadata": {
    "deletable": true,
    "editable": true
   },
   "source": [
    "这里，好好讲解一下，前面没好好学，这里就看不懂了，sub_原位替换，不用说了 f是每一层的参数，每层参数都是一个Variable，注意Variable里面有什么来着data,如果选了requires_grad = True还会有一个grad的内部Variable\n",
    "\n",
    "这里f.data就是该层权重的数据，f.grad.data是该层计算出的梯度的数据\n",
    "\n",
    "OK，还有一点要清楚，这只是进行了一次反向传播"
   ]
  },
  {
   "cell_type": "markdown",
   "metadata": {
    "deletable": true,
    "editable": true
   },
   "source": [
    "前面这个梯度下降是我们自己写出来的，但单纯的梯度下降算法是不实际的，我们还有很多先进的梯度优化器，比如AdamOptimizer SGDOptimizer"
   ]
  },
  {
   "cell_type": "code",
   "execution_count": 99,
   "metadata": {
    "collapsed": false,
    "deletable": true,
    "editable": true
   },
   "outputs": [],
   "source": [
    "import torch.optim as optim\n",
    "optimizer = optim.SGD(net.parameters(), lr = 0.01) # 要更新的所有参数信息都交给算法了，剩下的事情由算法自己解决\n",
    "optimizer.zero_grad() # 等同于 net.zero_grad()\n",
    "output = net(input) # 前向\n",
    "loss = criterion(output, target) # 计算输出误差\n",
    "loss.backward() # Variable的反向传播函数，基于grad_fn自动算\n",
    "optimizer.step() # 更新梯度，厉害了吧，optimizer会特别随性的控制step，是迈大一点的步子，还是迈小一点的步子，以尽快寻找极值"
   ]
  },
  {
   "cell_type": "markdown",
   "metadata": {
    "deletable": true,
    "editable": true
   },
   "source": [
    "Great, 我们完成了简单的网络搭建到网络训练过程，这里没有写minibatch的全过程，留作作业吧。"
   ]
  },
  {
   "cell_type": "markdown",
   "metadata": {
    "deletable": true,
    "editable": true
   },
   "source": [
    "# 数据和一次更完整的训练\n",
    "最佳的数据读取和利用过程是：load进来->归一化处理->载入nparray->转为Tensor->包装成Variable，注意网络的输入时Variable，这样方便统一处理，因为一个网络的输入可能是另一个网络的输出，如果输入输出不统一，这种组合就很麻烦。对于视觉问题，torch引入了torchvision包，提供便利的数据集和数据加载功能。这次我们使用torchvision引入CIFAR10数据集\n",
    "\n",
    "![](./cifar10.png)"
   ]
  },
  {
   "cell_type": "code",
   "execution_count": 103,
   "metadata": {
    "collapsed": false,
    "deletable": true,
    "editable": true
   },
   "outputs": [
    {
     "name": "stdout",
     "output_type": "stream",
     "text": [
      "Downloading http://www.cs.toronto.edu/~kriz/cifar-10-python.tar.gz to ./data/cifar-10-python.tar.gz\n",
      "Files already downloaded and verified\n"
     ]
    }
   ],
   "source": [
    "import torch\n",
    "import torchvision\n",
    "import torchvision.transforms as transforms\n",
    "\n",
    "transform = transforms.Compose([ transforms.ToTensor(), transforms.Normalize((0.5, 0.5, 0.5), (0.5, 0.5, 0.5)) ]) #这是什么玩意儿\n",
    "\n",
    "trainset = torchvision.datasets.CIFAR10(root='./data', train = True, download = True, transform = transform)\n",
    "trainLoader = torch.utils.data.DataLoader(trainset, batch_size = 4, shuffle = True, num_workers = 2) # batch产生器\n",
    "\n",
    "testset = torchvision.datasets.CIFAR10(root='./data', train = False, download = True, transform = transform)\n",
    "testLoader = torch.utils.data.DataLoader(testset, batch_size = 4, shuffle = False, num_workers = 2)\n",
    "\n",
    "classes = ('plane', 'car', 'bird', 'cat', 'deer', 'dog', 'frog', 'horse', 'ship', 'truck')"
   ]
  },
  {
   "cell_type": "code",
   "execution_count": 125,
   "metadata": {
    "collapsed": false,
    "deletable": true,
    "editable": true
   },
   "outputs": [
    {
     "name": "stdout",
     "output_type": "stream",
     "text": [
      "torch.Size([4, 3, 32, 32])\n",
      "Help on function make_grid in module torchvision.utils:\n",
      "\n",
      "make_grid(tensor, nrow=8, padding=2, normalize=False, range=None, scale_each=False, pad_value=0)\n",
      "    Make a grid of images.\n",
      "    \n",
      "    Args:\n",
      "        tensor (Tensor or list): 4D mini-batch Tensor of shape (B x C x H x W)\n",
      "            or a list of images all of the same size.\n",
      "        nrows (int, optional): Number of rows in grid. Final grid size is\n",
      "            (B / nrow, nrow). Default is 8.\n",
      "        normalize (bool, optional): If True, shift the image to the range (0, 1),\n",
      "            by subtracting the minimum and dividing by the maximum pixel value.\n",
      "        range (tuple, optional): tuple (min, max) where min and max are numbers,\n",
      "            then these numbers are used to normalize the image. By default, min and max\n",
      "            are computed from the tensor.\n",
      "        scale_each(bool, optional): If True, scale each image in the batch of\n",
      "            images separately rather than the (min, max) over all images.\n",
      "        pad_value(float, optional): Value for the padded pixels.\n",
      "    \n",
      "    Example:\n",
      "        See this notebook `here <https://gist.github.com/anonymous/bf16430f7750c023141c562f3e9f2a91>`_\n",
      "\n",
      "torch.Size([3, 36, 138])\n",
      "\n",
      " 0.0000  0.0000  0.0000  ...   0.0000  0.0000  0.0000\n",
      " 0.0000  0.0000  0.0000  ...   0.0000  0.0000  0.0000\n",
      " 0.0000  0.0000  0.5373  ...  -0.1059  0.0000  0.0000\n",
      "          ...             ⋱             ...          \n",
      " 0.0000  0.0000 -0.7804  ...   0.5843  0.0000  0.0000\n",
      " 0.0000  0.0000  0.0000  ...   0.0000  0.0000  0.0000\n",
      " 0.0000  0.0000  0.0000  ...   0.0000  0.0000  0.0000\n",
      "[torch.FloatTensor of size 36x138]\n",
      "\n",
      "(36, 138)\n",
      "(36, 138, 3)\n"
     ]
    },
    {
     "data": {
      "image/png": "[encoded data removed]",
      "text/plain": [
       "<matplotlib.figure.Figure at 0x1190e1b38>"
      ]
     },
     "metadata": {},
     "output_type": "display_data"
    },
    {
     "name": "stdout",
     "output_type": "stream",
     "text": [
      "horse  bird   cat plane\n"
     ]
    }
   ],
   "source": [
    "import matplotlib.pyplot as plt\n",
    "import numpy as np\n",
    "\n",
    "def imshow(imgs):\n",
    "    print(imgs.size())\n",
    "    print(imgs[0])\n",
    "    imgs = imgs / 2 + 0.5 # unnormalize 反归一化，原值-1-1 =》 0-1\n",
    "    npimgs = imgs.numpy()\n",
    "    print(npimgs[0].shape)\n",
    "    timg = np.transpose(npimgs, (1, 2, 0))\n",
    "    print(timg.shape)\n",
    "    plt.imshow(timg) # 转置\n",
    "    plt.show()\n",
    "\n",
    "dataiter = iter(trainLoader)\n",
    "images, labels = dataiter.next()\n",
    "print(images.size())\n",
    "help(torchvision.utils.make_grid)\n",
    "imshow(torchvision.utils.make_grid(images))\n",
    "print(' '.join('%5s' % classes[labels[j]] for j in range(4)))\n",
    "    "
   ]
  },
  {
   "cell_type": "markdown",
   "metadata": {
    "deletable": true,
    "editable": true
   },
   "source": [
    "这一段学习起来比较辛苦，make_grid基本没有人详细的解释他，下面就让我来给大家分析分析吧\n",
    "\n",
    "首先，什么是grid，其实就是图片网格，image grid，一组图片展示序列\n",
    "以上面的例子为例，输入是32x32的图片，做成网格后，加入padding，默认是2，所以高度变成了32 + 2*2 = 36, 我们有四张图片，所以宽度变成了4*32 + 5 * 2 = 138, 还有一个数是3，对于训练数据是放到前面的，但对于imshow需要放到后面，所以使用了transpose，OK，现在清楚了吧。不谢。\n",
    "\n",
    "### transforms\n",
    "接下来，我们回过头，啃前面那个更恶心的transforms\n",
    "transform = transforms.Compose([ transforms.ToTensor(), transforms.Normalize((0.5, 0.5, 0.5), (0.5, 0.5, 0.5)) ])\n",
    "看着是不是想吐，什么东西？"
   ]
  },
  {
   "cell_type": "code",
   "execution_count": 127,
   "metadata": {
    "collapsed": false,
    "deletable": true,
    "editable": true
   },
   "outputs": [
    {
     "name": "stdout",
     "output_type": "stream",
     "text": [
      "Help on class Compose in module torchvision.transforms:\n",
      "\n",
      "class Compose(builtins.object)\n",
      " |  Composes several transforms together.\n",
      " |  \n",
      " |  Args:\n",
      " |      transforms (list of ``Transform`` objects): list of transforms to compose.\n",
      " |  \n",
      " |  Example:\n",
      " |      >>> transforms.Compose([\n",
      " |      >>>     transforms.CenterCrop(10),\n",
      " |      >>>     transforms.ToTensor(),\n",
      " |      >>> ])\n",
      " |  \n",
      " |  Methods defined here:\n",
      " |  \n",
      " |  __call__(self, img)\n",
      " |      Call self as a function.\n",
      " |  \n",
      " |  __init__(self, transforms)\n",
      " |      Initialize self.  See help(type(self)) for accurate signature.\n",
      " |  \n",
      " |  ----------------------------------------------------------------------\n",
      " |  Data descriptors defined here:\n",
      " |  \n",
      " |  __dict__\n",
      " |      dictionary for instance variables (if defined)\n",
      " |  \n",
      " |  __weakref__\n",
      " |      list of weak references to the object (if defined)\n",
      "\n"
     ]
    }
   ],
   "source": [
    "help(transforms.Compose)"
   ]
  },
  {
   "cell_type": "markdown",
   "metadata": {
    "deletable": true,
    "editable": true
   },
   "source": [
    "OK, easy, Compose原来是个组合器，应该是一个流水线，本例中，transforms.toTensor()获得转换成Tensor的转换器，transforms.Normalize我们来看看是一个什么归一化工具，主要是参数不明白，为什么俩参数"
   ]
  },
  {
   "cell_type": "code",
   "execution_count": 128,
   "metadata": {
    "collapsed": false,
    "deletable": true,
    "editable": true
   },
   "outputs": [
    {
     "name": "stdout",
     "output_type": "stream",
     "text": [
      "Help on class Normalize in module torchvision.transforms:\n",
      "\n",
      "class Normalize(builtins.object)\n",
      " |  Normalize an tensor image with mean and standard deviation.\n",
      " |  \n",
      " |  Given mean: (R, G, B) and std: (R, G, B),\n",
      " |  will normalize each channel of the torch.*Tensor, i.e.\n",
      " |  channel = (channel - mean) / std\n",
      " |  \n",
      " |  Args:\n",
      " |      mean (sequence): Sequence of means for R, G, B channels respecitvely.\n",
      " |      std (sequence): Sequence of standard deviations for R, G, B channels\n",
      " |          respecitvely.\n",
      " |  \n",
      " |  Methods defined here:\n",
      " |  \n",
      " |  __call__(self, tensor)\n",
      " |      Args:\n",
      " |          tensor (Tensor): Tensor image of size (C, H, W) to be normalized.\n",
      " |      \n",
      " |      Returns:\n",
      " |          Tensor: Normalized image.\n",
      " |  \n",
      " |  __init__(self, mean, std)\n",
      " |      Initialize self.  See help(type(self)) for accurate signature.\n",
      " |  \n",
      " |  ----------------------------------------------------------------------\n",
      " |  Data descriptors defined here:\n",
      " |  \n",
      " |  __dict__\n",
      " |      dictionary for instance variables (if defined)\n",
      " |  \n",
      " |  __weakref__\n",
      " |      list of weak references to the object (if defined)\n",
      "\n"
     ]
    }
   ],
   "source": [
    "help(transforms.Normalize)"
   ]
  },
  {
   "cell_type": "markdown",
   "metadata": {
    "deletable": true,
    "editable": true
   },
   "source": [
    "OK，比较清晰，连个参数分别是针对RGB三通道的期望mean和标准差std， channel = (channel - mean) / std\n",
    "好不容易，终于进入到下一个环节，定义一个网络"
   ]
  },
  {
   "cell_type": "code",
   "execution_count": 129,
   "metadata": {
    "collapsed": false,
    "deletable": true,
    "editable": true
   },
   "outputs": [
    {
     "name": "stdout",
     "output_type": "stream",
     "text": [
      "Net (\n",
      "  (conv1): Conv2d(3, 6, kernel_size=(5, 5), stride=(1, 1))\n",
      "  (pool): MaxPool2d (size=(2, 2), stride=(2, 2), dilation=(1, 1))\n",
      "  (conv2): Conv2d(6, 16, kernel_size=(5, 5), stride=(1, 1))\n",
      "  (fc1): Linear (400 -> 120)\n",
      "  (fc2): Linear (120 -> 84)\n",
      "  (fc3): Linear (84 -> 10)\n",
      ")\n"
     ]
    }
   ],
   "source": [
    "from torch.autograd import Variable\n",
    "import torch.nn as nn\n",
    "import torch.nn.functional as F # 还记得么？一个函数包 F.maxpool2d F.relu都在里面\n",
    "\n",
    "class Net(nn.Module): # 我觉得Module叫Network更实际，但Module可能更通用吧\n",
    "    def __init__(self):\n",
    "        super(Net, self).__init__()\n",
    "        self.conv1 = nn.Conv2d(3, 6, 5)\n",
    "        self.pool = nn.MaxPool2d(2, 2) # 这次不用F.maxpool2d了，这次提前定义好，注意这些东西不是层，而是一个函数，可以用在多个层中\n",
    "                                        # 其他的conv1具有独特性是因为他们的size太独特，难以用在其他地方，pool就很通用\n",
    "        self.conv2 = nn.Conv2d(6, 16, 5)\n",
    "        self.fc1 = nn.Linear(16 * 5 * 5, 120)\n",
    "        self.fc2 = nn.Linear(120, 84)\n",
    "        self.fc3 = nn.Linear(84, 10)\n",
    "        \n",
    "    def forward(self, x):\n",
    "        x = self.pool(F.relu(self.conv1(x)))\n",
    "        x = self.pool(F.relu(self.conv2(x)))\n",
    "        x = x.view(-1, 16 * 5 * 5)\n",
    "        x = F.relu(self.fc1(x))\n",
    "        x = F.relu(self.fc2(x))\n",
    "        x = self.fc3(x)\n",
    "        return x\n",
    "    \n",
    "net = Net()\n",
    "print(net)\n",
    "    \n",
    "\n"
   ]
  },
  {
   "cell_type": "code",
   "execution_count": 130,
   "metadata": {
    "collapsed": true,
    "deletable": true,
    "editable": true
   },
   "outputs": [],
   "source": [
    "# OK，接着还是我们前面熟悉的，继续\n",
    "import torch.optim as optim\n",
    "criterion = nn.CrossEntropyLoss()\n",
    "optimizer = optim.SGD(net.parameters(), lr = 0.001, momentum = 0.9)"
   ]
  },
  {
   "cell_type": "markdown",
   "metadata": {
    "deletable": true,
    "editable": true
   },
   "source": [
    "OK，下面重点来了，我们前面没有提到过的minibatch训练过程"
   ]
  },
  {
   "cell_type": "code",
   "execution_count": 135,
   "metadata": {
    "collapsed": false,
    "deletable": true,
    "editable": true
   },
   "outputs": [
    {
     "name": "stdout",
     "output_type": "stream",
     "text": [
      "Done\n"
     ]
    }
   ],
   "source": [
    "for epoch in range(2): # 先做2次意思意思\n",
    "    running_loss = 0.0\n",
    "    for i, data in enumerate(trainLoader, 0):\n",
    "        inputs, labels = data\n",
    "        \n",
    "        inputs, labels = Variable(inputs), Variable(labels)\n",
    "        \n",
    "        # 一次循环前，一定要zero哦，不能忘，pytorch太贱了，暴露了这么多，所以如果常用的东西还是要自己封装一下\n",
    "        optimizer.zero_grad()\n",
    "        \n",
    "        outputs = net(inputs) # 正向\n",
    "        loss = criterion(outputs, labels) # 输出误差 接收的是logits和predit_index\n",
    "        loss.backward() # 反向\n",
    "        optimizer.step() # 更新\n",
    "        \n",
    "        running_loss += loss.data[0]\n",
    "        if i % 200 == 1999:\n",
    "            print('[%d, %5d] loss: %.3f' % (epoch + 1, i + 1, running_loss / 2000)) # 居然用的是平均误差。。。真是良心作者\n",
    "            running_loss = 0.0\n",
    "        \n",
    "print('Done')\n"
   ]
  },
  {
   "cell_type": "code",
   "execution_count": 136,
   "metadata": {
    "collapsed": false,
    "deletable": true,
    "editable": true
   },
   "outputs": [
    {
     "name": "stdout",
     "output_type": "stream",
     "text": [
      "torch.Size([3, 36, 138])\n",
      "\n",
      " 0.0000  0.0000  0.0000  ...   0.0000  0.0000  0.0000\n",
      " 0.0000  0.0000  0.0000  ...   0.0000  0.0000  0.0000\n",
      " 0.0000  0.0000  0.2392  ...   0.5059  0.0000  0.0000\n",
      "          ...             ⋱             ...          \n",
      " 0.0000  0.0000 -0.5765  ...  -0.4275  0.0000  0.0000\n",
      " 0.0000  0.0000  0.0000  ...   0.0000  0.0000  0.0000\n",
      " 0.0000  0.0000  0.0000  ...   0.0000  0.0000  0.0000\n",
      "[torch.FloatTensor of size 36x138]\n",
      "\n",
      "(36, 138)\n",
      "(36, 138, 3)\n"
     ]
    },
    {
     "data": {
      "image/png": "[encoded data removed]",
      "text/plain": [
       "<matplotlib.figure.Figure at 0x1193b6fd0>"
      ]
     },
     "metadata": {},
     "output_type": "display_data"
    },
    {
     "name": "stdout",
     "output_type": "stream",
     "text": [
      "GroundTruth:    cat  ship  ship plane\n"
     ]
    }
   ],
   "source": [
    "dataiter = iter(testLoader)\n",
    "images, labels = dataiter.next()\n",
    "\n",
    "imshow(torchvision.utils.make_grid(images))\n",
    "print('GroundTruth: ', ' '.join('%5s' % classes[labels[j]] for j in range(4)))"
   ]
  },
  {
   "cell_type": "code",
   "execution_count": 137,
   "metadata": {
    "collapsed": true,
    "deletable": true,
    "editable": true
   },
   "outputs": [],
   "source": [
    "outputs = net(Variable(images))"
   ]
  },
  {
   "cell_type": "code",
   "execution_count": 138,
   "metadata": {
    "collapsed": false,
    "deletable": true,
    "editable": true
   },
   "outputs": [
    {
     "name": "stdout",
     "output_type": "stream",
     "text": [
      "Predicted:    cat  ship  ship  ship\n"
     ]
    }
   ],
   "source": [
    "_, predicted = torch.max(outputs.data, 1) # 就是argmax\n",
    "print('Predicted: ', ' '.join('%5s' % classes[predicted[j]] for j in range(4)))"
   ]
  },
  {
   "cell_type": "code",
   "execution_count": 139,
   "metadata": {
    "collapsed": false,
    "deletable": true,
    "editable": true
   },
   "outputs": [
    {
     "name": "stdout",
     "output_type": "stream",
     "text": [
      "Help on built-in function max in module torch._C:\n",
      "\n",
      "max(...)\n",
      "    .. function:: max(input) -> float\n",
      "    \n",
      "    Returns the maximum value of all elements in the :attr:`input` Tensor.\n",
      "    \n",
      "    Args:\n",
      "        input (Tensor): the input `Tensor`\n",
      "    \n",
      "    Example::\n",
      "    \n",
      "        >>> a = torch.randn(1, 3)\n",
      "        >>> a\n",
      "    \n",
      "         0.4729 -0.2266 -0.2085\n",
      "        [torch.FloatTensor of size 1x3]\n",
      "    \n",
      "        >>> torch.max(a)\n",
      "        0.4729\n",
      "    \n",
      "    \n",
      "    .. function:: max(input, dim, keepdim=False, out=None) -> (Tensor, LongTensor)\n",
      "    \n",
      "    Returns the maximum value of each row of the :attr:`input` Tensor in the given\n",
      "    dimension :attr:`dim`. The second return value is the index location of each\n",
      "    maximum value found (argmax).\n",
      "    \n",
      "    If :attr:`keepdim` is true, the output Tensors are of the same size\n",
      "    as :attr:`input` except in the dimension :attr:`dim` where they are of size 1.\n",
      "    Otherwise, :attr:`dim` is squeezed (see :func:`torch.squeeze`), resulting\n",
      "    in the output Tensors having 1 fewer dimension than :attr:`input`.\n",
      "    \n",
      "    Args:\n",
      "        input (Tensor): the input `Tensor`\n",
      "        dim (int): the dimension to reduce\n",
      "        keepdim (bool): whether the output Tensors have :attr:`dim` retained or not\n",
      "        out (tuple, optional): the result tuple of two output Tensors (max, max_indices)\n",
      "    \n",
      "    Example::\n",
      "    \n",
      "        >> a = torch.randn(4, 4)\n",
      "        >> a\n",
      "    \n",
      "        0.0692  0.3142  1.2513 -0.5428\n",
      "        0.9288  0.8552 -0.2073  0.6409\n",
      "        1.0695 -0.0101 -2.4507 -1.2230\n",
      "        0.7426 -0.7666  0.4862 -0.6628\n",
      "        torch.FloatTensor of size 4x4]\n",
      "    \n",
      "        >>> torch.max(a, 1)\n",
      "        (\n",
      "         1.2513\n",
      "         0.9288\n",
      "         1.0695\n",
      "         0.7426\n",
      "        [torch.FloatTensor of size 4]\n",
      "        ,\n",
      "         2\n",
      "         0\n",
      "         0\n",
      "         0\n",
      "        [torch.LongTensor of size 4]\n",
      "        )\n",
      "    \n",
      "    .. function:: max(input, other, out=None) -> Tensor\n",
      "    \n",
      "    Each element of the Tensor :attr:`input` is compared with the corresponding\n",
      "    element of the Tensor :attr:`other` and an element-wise `max` is taken.\n",
      "    \n",
      "    The shapes of :attr:`input` and :attr:`other` don't need to match,\n",
      "    but they must be :ref:`broadcastable <broadcasting-semantics>`.\n",
      "    \n",
      "    .. note:: When the shapes do not match, the shape of the returned output tensor\n",
      "              follows the :ref:`broadcasting rules <broadcasting-semantics>`.\n",
      "    \n",
      "    :math:`out_i = max(tensor_i, other_i)`\n",
      "    \n",
      "    Args:\n",
      "        input (Tensor): the input `Tensor`\n",
      "        other (Tensor): the second input `Tensor`\n",
      "        out (Tensor, optional): The result `Tensor`\n",
      "    \n",
      "    Example::\n",
      "    \n",
      "        >>> a = torch.randn(4)\n",
      "        >>> a\n",
      "    \n",
      "         1.3869\n",
      "         0.3912\n",
      "        -0.8634\n",
      "        -0.5468\n",
      "        [torch.FloatTensor of size 4]\n",
      "    \n",
      "        >>> b = torch.randn(4)\n",
      "        >>> b\n",
      "    \n",
      "         1.0067\n",
      "        -0.8010\n",
      "         0.6258\n",
      "         0.3627\n",
      "        [torch.FloatTensor of size 4]\n",
      "    \n",
      "        >>> torch.max(a, b)\n",
      "    \n",
      "         1.3869\n",
      "         0.3912\n",
      "         0.6258\n",
      "         0.3627\n",
      "        [torch.FloatTensor of size 4]\n",
      "\n"
     ]
    }
   ],
   "source": [
    "help(torch.max)"
   ]
  },
  {
   "cell_type": "code",
   "execution_count": 145,
   "metadata": {
    "collapsed": false,
    "deletable": true,
    "editable": true
   },
   "outputs": [
    {
     "name": "stdout",
     "output_type": "stream",
     "text": [
      "Accuracy of the network on the 10000 test images: 10 %\n"
     ]
    }
   ],
   "source": [
    "correct = 0\n",
    "\n",
    "total = 0\n",
    "for data in testLoader:\n",
    "    images, labels = data\n",
    "    outputs = net(Variable(images))\n",
    "    _, predicted = torch.max(output, 1) # pytorch的发明者绝对是个简洁主义，希望一个函数搞定一切，连个argmax都懒得造\n",
    "    total += labels.size(0)\n",
    "    correct += (predicted.data == labels).long().sum()\n",
    "    \n",
    "print('Accuracy of the network on the 10000 test images: %d %%' % (100 * correct / total))"
   ]
  },
  {
   "cell_type": "markdown",
   "metadata": {
    "deletable": true,
    "editable": true
   },
   "source": [
    "## 在GPU上训练\n",
    "使用net.cuda()  inputs.cuda()  labels.cuda()\n",
    "\n",
    "Well, Great, 到现在我们应该算是pytorch入门了吧？好，我们现在终于可以回到lr.ipynb了，完成我们之前未尽的事业。"
   ]
  },
  {
   "cell_type": "code",
   "execution_count": null,
   "metadata": {
    "collapsed": true,
    "deletable": true,
    "editable": true
   },
   "outputs": [],
   "source": []
  }
 ],
 "metadata": {
  "kernelspec": {
   "display_name": "Python 3",
   "language": "python",
   "name": "python3"
  },
  "language_info": {
   "codemirror_mode": {
    "name": "ipython",
    "version": 3
   },
   "file_extension": ".py",
   "mimetype": "text/x-python",
   "name": "python",
   "nbconvert_exporter": "python",
   "pygments_lexer": "ipython3",
   "version": "3.6.0"
  }
 },
 "nbformat": 4,
 "nbformat_minor": 2
}
